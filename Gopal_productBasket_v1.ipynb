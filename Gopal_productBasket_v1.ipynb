{
 "cells": [
  {
   "cell_type": "code",
   "execution_count": null,
   "id": "d49a67f2",
   "metadata": {},
   "outputs": [],
   "source": [
    "# import library\n",
    "from mlxtend.frequent_patterns import apriori as mlx_apriori, association_rules\n",
    "import pandas as pd\n",
    "import numpy as np"
   ]
  },
  {
   "cell_type": "code",
   "execution_count": null,
   "id": "5e1b5a37",
   "metadata": {},
   "outputs": [],
   "source": [
    "# read the file\n",
    "trn = pd.read_excel(\"C:\\\\Users\\\\sales.co\\\\Documents\\\\R\\\\datatest_product.xlsx\")"
   ]
  },
  {
   "cell_type": "code",
   "execution_count": null,
   "id": "30c02bbd",
   "metadata": {},
   "outputs": [],
   "source": [
    "# check summary of Quantity\n",
    "trn.describe()"
   ]
  },
  {
   "cell_type": "code",
   "execution_count": null,
   "id": "05d64183",
   "metadata": {},
   "outputs": [],
   "source": [
    "# view the data structure\n",
    "trn.style"
   ]
  },
  {
   "cell_type": "code",
   "execution_count": null,
   "id": "fb8be04b",
   "metadata": {},
   "outputs": [],
   "source": [
    "# check any missing values\n",
    "trn.isna().count()"
   ]
  },
  {
   "cell_type": "code",
   "execution_count": null,
   "id": "38381362-3953-4340-93e9-e0e1d1d8f9a3",
   "metadata": {},
   "outputs": [],
   "source": [
    "# extract the columns name\n",
    "trn.columns"
   ]
  },
  {
   "cell_type": "code",
   "execution_count": null,
   "id": "bd42a13c-efa7-483d-a749-931c4718ed18",
   "metadata": {},
   "outputs": [],
   "source": [
    "#trn.set_index(['invoice_date'], inplace=True)"
   ]
  },
  {
   "cell_type": "code",
   "execution_count": null,
   "id": "1e46be58-3394-488c-adb1-b5451b813c10",
   "metadata": {},
   "outputs": [],
   "source": [
    "# check firt five transaction\n",
    "trn.head()"
   ]
  },
  {
   "cell_type": "code",
   "execution_count": null,
   "id": "255ac592-1d81-4169-99cc-ebe5a97af4e1",
   "metadata": {},
   "outputs": [],
   "source": [
    "# Pivot the categorical column from row to column and reset the index\n",
    "df_unstacked = trn.pivot(index=\"invoice_date\", columns=\"product_name\", values=\"qty\").reset_index().rename_axis(columns=None)"
   ]
  },
  {
   "cell_type": "code",
   "execution_count": null,
   "id": "6e526d28-99d5-4d85-b35a-145cc89b7d8b",
   "metadata": {},
   "outputs": [],
   "source": [
    "# fill zero for na\n",
    "df_unstacked = df_unstacked.fillna(0)"
   ]
  },
  {
   "cell_type": "code",
   "execution_count": null,
   "id": "837588cc-ad47-4d82-a81f-7c0240669c6c",
   "metadata": {},
   "outputs": [],
   "source": [
    "#df_stack=trn.drop(columns=\"qty\", axis =1)"
   ]
  },
  {
   "cell_type": "code",
   "execution_count": null,
   "id": "14e00cae-9525-48ea-b23a-c277f62ef9bd",
   "metadata": {},
   "outputs": [],
   "source": [
    "# check last 5 transaction \n",
    "df_unstacked.tail()"
   ]
  },
  {
   "cell_type": "code",
   "execution_count": null,
   "id": "9d1a8ebf-6cb2-47bf-96dd-8d0cd159f6b9",
   "metadata": {},
   "outputs": [],
   "source": [
    "# Slice the columns\n",
    "data = df_unstacked.iloc[:,1:]"
   ]
  },
  {
   "cell_type": "code",
   "execution_count": null,
   "id": "8aa61f6a-b991-4816-b3da-d7b7c0018def",
   "metadata": {},
   "outputs": [],
   "source": [
    "# Apply True or False to all variables if availabe quantity\n",
    "df_wide = data.applymap(lambda x: 1 if x >= 1 else 0)"
   ]
  },
  {
   "cell_type": "code",
   "execution_count": null,
   "id": "c651a510-070a-4aa2-9eb4-d9e943772faa",
   "metadata": {},
   "outputs": [],
   "source": [
    "# sample from df_wide datafram by 3 %\n",
    "df_sample = df_wide.sample(frac=0.03)"
   ]
  },
  {
   "cell_type": "code",
   "execution_count": null,
   "id": "69ed191d-c8ce-4248-99b8-71f1e47e4047",
   "metadata": {},
   "outputs": [],
   "source": [
    "# filter data which has more than 1 unique value for better market basket analysis\n",
    "df_wide_sample = df_sample.loc[:, df_sample.apply(lambda x: x.nunique() > 1)].reset_index()"
   ]
  },
  {
   "cell_type": "code",
   "execution_count": null,
   "id": "63697951-4190-4aaa-ac6b-486f1c335865",
   "metadata": {},
   "outputs": [],
   "source": [
    "# Apply True or False to all variables if availabe quantity\n",
    "df_wide_unique = df_wide_sample.applymap(lambda x: True if x >= 1 else False)"
   ]
  },
  {
   "cell_type": "code",
   "execution_count": null,
   "id": "c0b1155a-d0e2-40bc-b1d3-ca9129da3947",
   "metadata": {},
   "outputs": [],
   "source": [
    "# Slice the columns\n",
    "df_sample_unique = df_wide_unique.iloc[:,1:]"
   ]
  },
  {
   "cell_type": "code",
   "execution_count": null,
   "id": "9d621bf7-1bdc-46f4-9ba9-73ee5308abe8",
   "metadata": {},
   "outputs": [],
   "source": [
    "# view first five transaction\n",
    "df_sample_unique.head()"
   ]
  },
  {
   "cell_type": "code",
   "execution_count": null,
   "id": "f3e769b0-7544-4200-8945-d5b5c10faebc",
   "metadata": {},
   "outputs": [],
   "source": [
    "# print data structure and datatype\n",
    "print(df_sample_unique.info())"
   ]
  },
  {
   "cell_type": "code",
   "execution_count": null,
   "id": "29d26629-5448-4b07-9cab-5969cb450344",
   "metadata": {},
   "outputs": [],
   "source": [
    "#from datetime import datetime, timedelta\n",
    "\n",
    "# # Get the current date\n",
    "# current_date = datetime.now().date()\n",
    "\n",
    "# # Subtract 30 days\n",
    "# result_date = current_date - timedelta(days=30)\n",
    "# formatted_result_date = result_date.strftime('%Y-%m-%d')"
   ]
  },
  {
   "cell_type": "code",
   "execution_count": null,
   "id": "994ef08e-206c-480b-8692-07329e4191d5",
   "metadata": {},
   "outputs": [],
   "source": [
    "# Filter rows based on the condition\n",
    "#df_unstacked_filtered = df_unstacked[df_unstacked['invoice_date'] >= df_unstacked['invoice_date'].max()-timedelta(days=30)]"
   ]
  },
  {
   "cell_type": "code",
   "execution_count": null,
   "id": "9a085ea0-2c5e-48af-80f9-547f3722a2de",
   "metadata": {},
   "outputs": [],
   "source": [
    "#df_unstacked_filtered"
   ]
  },
  {
   "cell_type": "code",
   "execution_count": null,
   "id": "b2b4cf6d-ee1e-4156-a4bf-85a68a359f18",
   "metadata": {},
   "outputs": [],
   "source": [
    "# import fpgrowth library\n",
    "from mlxtend.frequent_patterns import fpgrowth"
   ]
  },
  {
   "cell_type": "code",
   "execution_count": null,
   "id": "cdd8e788-8a1f-4410-afd3-b84c1149f548",
   "metadata": {},
   "outputs": [],
   "source": [
    "# apply fpgrowth model with min support 40%\n",
    "frequent_itemsets = fpgrowth(df_sample_unique, min_support=0.51,use_colnames=True)\n",
    "\n",
    "print(frequent_itemsets)"
   ]
  },
  {
   "cell_type": "code",
   "execution_count": null,
   "id": "11394620",
   "metadata": {},
   "outputs": [],
   "source": [
    "# create function to know relationship with each products\n",
    "def get_recommendations(df, item):\n",
    "    \"\"\"Generate a set of product recommendations using item-based collaborative filtering.\n",
    "    \n",
    "    Args:\n",
    "        df (dataframe): Pandas dataframe containing matrix of items purchased.\n",
    "        item (string): Column name for target item. \n",
    "        \n",
    "    Returns: \n",
    "        recommendations (dataframe): Pandas dataframe containing product recommendations. \n",
    "    \"\"\"\n",
    "    \n",
    "    recommendations = df.corrwith(df[item])\n",
    "    recommendations.dropna(inplace=True)\n",
    "    recommendations = pd.DataFrame(recommendations, columns=['correlation']).reset_index()\n",
    "    recommendations = recommendations.sort_values(by='correlation', ascending=False)\n",
    "    \n",
    "    return recommendations"
   ]
  },
  {
   "cell_type": "code",
   "execution_count": null,
   "id": "cf94e803",
   "metadata": {},
   "outputs": [],
   "source": [
    "# check bikanery Bhujia releationship with other products\n",
    "recommendations = get_recommendations(df_sample_unique, 'BIKANERI BHUJIA')\n",
    "recommendations.head(10)"
   ]
  },
  {
   "cell_type": "code",
   "execution_count": null,
   "id": "60d31abf",
   "metadata": {},
   "outputs": [],
   "source": [
    "# check bikanery sweet farali chivda with other products\n",
    "recommendations = get_recommendations(df_sample_unique, 'MASALA PONGA')\n",
    "recommendations.head(10)"
   ]
  },
  {
   "cell_type": "code",
   "execution_count": null,
   "id": "d05bcda2",
   "metadata": {},
   "outputs": [],
   "source": [
    "# apply association rules and sort with confidence highest\n",
    "association_rules(frequent_itemsets).sort_values('confidence', ascending=False)"
   ]
  },
  {
   "cell_type": "code",
   "execution_count": null,
   "id": "3d0c8346",
   "metadata": {},
   "outputs": [],
   "source": [
    "# apply association rules and sort with confidence lowest\n",
    "association_rules(frequent_itemsets).sort_values('confidence', ascending=True)"
   ]
  },
  {
   "cell_type": "code",
   "execution_count": null,
   "id": "4af2340e",
   "metadata": {},
   "outputs": [],
   "source": []
  },
  {
   "cell_type": "code",
   "execution_count": null,
   "id": "6772857d",
   "metadata": {},
   "outputs": [],
   "source": []
  }
 ],
 "metadata": {
  "kernelspec": {
   "display_name": "Python 3 (ipykernel)",
   "language": "python",
   "name": "python3"
  },
  "language_info": {
   "codemirror_mode": {
    "name": "ipython",
    "version": 3
   },
   "file_extension": ".py",
   "mimetype": "text/x-python",
   "name": "python",
   "nbconvert_exporter": "python",
   "pygments_lexer": "ipython3",
   "version": "3.11.4"
  }
 },
 "nbformat": 4,
 "nbformat_minor": 5
}
